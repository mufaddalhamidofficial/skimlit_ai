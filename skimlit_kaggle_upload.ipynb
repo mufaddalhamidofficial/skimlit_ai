{
 "cells": [
  {
   "cell_type": "code",
   "execution_count": null,
   "metadata": {},
   "outputs": [],
   "source": [
    "!wget https://raw.githubusercontent.com/mufaddalhamidofficial/tensorflow_course/main/helper_funcs.py\n",
    "!wget https://media.githubusercontent.com/media/mufaddalhamidofficial/skimlit_ai/main/data.zip"
   ]
  },
  {
   "cell_type": "code",
   "execution_count": 2,
   "metadata": {},
   "outputs": [],
   "source": [
    "import tensorflow as tf\n",
    "import numpy as np\n",
    "import pandas as pd\n",
    "import matplotlib.pyplot as plt\n",
    "import random\n",
    "from helper_funcs import create_tensorboard_callback, create_checkpoint_callback, plot_loss_curves, compare_historys, unzip_data, calculate_results\n",
    "import tensorflow_hub as hub\n",
    "import io"
   ]
  },
  {
   "cell_type": "code",
   "execution_count": null,
   "metadata": {},
   "outputs": [],
   "source": [
    "tf.__version__"
   ]
  },
  {
   "cell_type": "code",
   "execution_count": 3,
   "metadata": {},
   "outputs": [],
   "source": [
    "unzip_data(\"data.zip\", '/kaggle/temp/')\n",
    "!rm -rf data.zip"
   ]
  },
  {
   "cell_type": "code",
   "execution_count": null,
   "metadata": {},
   "outputs": [],
   "source": [
    "DIR_NAME_01 = \"/kaggle/temp/data/01_percent\"\n",
    "DIR_NAME_1 = \"/kaggle/temp/data/1_percent\"\n",
    "DIR_NAME_10 = \"/kaggle/temp/data/10_percent\"\n",
    "DIR_NAME_100 = \"/kaggle/temp/data/100_percent\"\n",
    "\n",
    "test_df_100 = pd.read_csv(DIR_NAME_100 + \"/test.csv\")\n",
    "test_df_100 = test_df_100.iloc[:, 1:]\n",
    "\n",
    "test_sentences_ = test_df_100.text.to_numpy()\n",
    "test_labels_ = test_df_100.target.to_numpy()"
   ]
  },
  {
   "cell_type": "markdown",
   "metadata": {},
   "source": [
    "## Callbacks:"
   ]
  },
  {
   "cell_type": "code",
   "execution_count": null,
   "metadata": {},
   "outputs": [],
   "source": [
    "def get_callbacks(experiment_name, use_early_stopping = True, patience=10, use_tensorboard = True, use_model_checkpoint = True):\n",
    "    callbacks = [\n",
    "    ]\n",
    "    if use_tensorboard:\n",
    "        callbacks.append(\n",
    "            create_tensorboard_callback(\n",
    "                dir_name=\"skim_lit/tensorboard\",\n",
    "                experiment_name=experiment_name,\n",
    "            )\n",
    "        )\n",
    "    if use_model_checkpoint:\n",
    "        callbacks.append(\n",
    "            create_checkpoint_callback(\n",
    "                dir_name=\"skim_lit/checkpoint\",\n",
    "                experiment_name=experiment_name,\n",
    "                monitor=\"val_accuracy\",\n",
    "            )\n",
    "        )\n",
    "    if use_early_stopping:\n",
    "        \n",
    "        callbacks.append(tf.keras.callbacks.EarlyStopping(\n",
    "            monitor=\"val_accuracy\",\n",
    "            patience=patience,\n",
    "            restore_best_weights=True,\n",
    "        ))\n",
    "    return callbacks"
   ]
  },
  {
   "cell_type": "markdown",
   "metadata": {},
   "source": [
    "# Modelling"
   ]
  },
  {
   "cell_type": "markdown",
   "metadata": {},
   "source": [
    "## Model s Data Preps:"
   ]
  },
  {
   "cell_type": "markdown",
   "metadata": {},
   "source": [
    "### Get and Prepare data"
   ]
  },
  {
   "cell_type": "code",
   "execution_count": null,
   "metadata": {},
   "outputs": [],
   "source": [
    "train_data_1 = pd.read_csv(DIR_NAME_1 + \"/train.csv\")\n",
    "train_sentences = train_data_1.text.to_numpy()\n",
    "train_labels = train_data_1.target.to_numpy()\n",
    "\n",
    "val_data_1 = pd.read_csv(DIR_NAME_1 + \"/val.csv\")\n",
    "val_sentences = val_data_1.text.to_numpy()\n",
    "val_labels = val_data_1.target.to_numpy()\n",
    "\n",
    "test_sentences = test_sentences_.copy()\n",
    "test_labels = test_labels_.copy()"
   ]
  },
  {
   "cell_type": "markdown",
   "metadata": {},
   "source": [
    "### One hot encode labels"
   ]
  },
  {
   "cell_type": "code",
   "execution_count": null,
   "metadata": {},
   "outputs": [],
   "source": [
    "from sklearn.preprocessing import OneHotEncoder\n",
    "\n",
    "one_hot_encoder = OneHotEncoder(sparse_output=False)\n",
    "train_labels_one_hot = one_hot_encoder.fit_transform(train_labels.reshape(-1, 1))\n",
    "val_labels_one_hot = one_hot_encoder.transform(val_labels.reshape(-1, 1))\n",
    "test_labels_one_hot = one_hot_encoder.transform(test_labels.reshape(-1, 1))\n",
    "\n",
    "train_labels_one_hot"
   ]
  },
  {
   "cell_type": "code",
   "execution_count": null,
   "metadata": {},
   "outputs": [],
   "source": [
    "class_names = list(one_hot_encoder.categories_[0])\n",
    "classes_count = len(class_names) # type: ignore\n",
    "class_names"
   ]
  },
  {
   "cell_type": "code",
   "execution_count": null,
   "metadata": {},
   "outputs": [],
   "source": [
    "import string\n",
    "\n",
    "train_chars = [\" \".join(list(sentence)) for sentence in train_sentences]\n",
    "val_chars = [\" \".join(list(sentence)) for sentence in val_sentences]\n",
    "test_chars = [\" \".join(list(sentence)) for sentence in test_sentences]\n",
    "\n",
    "char_lens = [len(sentence.split(' ')) for sentence in train_chars]\n",
    "\n",
    "seq_char_len = int(np.percentile(char_lens, 90))\n",
    "\n",
    "alphabet = string.ascii_lowercase + string.digits + string.punctuation\n",
    "\n",
    "NUM_CHAR_TOKENS = len(alphabet) + 2\n",
    "seq_char_len, NUM_CHAR_TOKENS, alphabet"
   ]
  },
  {
   "cell_type": "markdown",
   "metadata": {},
   "source": [
    "## Model s 23"
   ]
  },
  {
   "cell_type": "code",
   "execution_count": null,
   "metadata": {},
   "outputs": [
    {
     "name": "stderr",
     "output_type": "stream",
     "text": [
      "2024-02-06 00:07:38.476674: I metal_plugin/src/device/metal_device.cc:1154] Metal device set to: Apple M2\n",
      "2024-02-06 00:07:38.476795: I metal_plugin/src/device/metal_device.cc:296] systemMemory: 8.00 GB\n",
      "2024-02-06 00:07:38.476803: I metal_plugin/src/device/metal_device.cc:313] maxCacheSize: 2.67 GB\n",
      "2024-02-06 00:07:38.477458: I tensorflow/core/common_runtime/pluggable_device/pluggable_device_factory.cc:306] Could not identify NUMA node of platform GPU ID 0, defaulting to 0. Your kernel may not have been built with NUMA support.\n",
      "2024-02-06 00:07:38.477831: I tensorflow/core/common_runtime/pluggable_device/pluggable_device_factory.cc:272] Created TensorFlow device (/job:localhost/replica:0/task:0/device:GPU:0 with 0 MB memory) -> physical PluggableDevice (device: 0, name: METAL, pci bus id: <undefined>)\n",
      "2024-02-06 00:07:38.767425: I tensorflow/core/grappler/optimizers/custom_graph_optimizer_registry.cc:117] Plugin optimizer for device_type GPU is enabled.\n"
     ]
    },
    {
     "data": {
      "text/plain": [
       "((22084, 20, 26), (272, 20, 26), (29493, 20, 26))"
      ]
     },
     "metadata": {},
     "output_type": "display_data"
    }
   ],
   "source": [
    "import string\n",
    "\n",
    "train_chars_puntuations = [' '.join([e for e in list(sentence) if e not in string.ascii_lowercase + ' ']) for sentence in train_sentences]\n",
    "val_chars_puntuations = [' '.join([e for e in list(sentence) if e not in string.ascii_lowercase + ' ']) for sentence in val_sentences]\n",
    "test_chars_puntuations = [' '.join([e for e in list(sentence) if e not in string.ascii_lowercase + ' ']) for sentence in test_sentences]\n",
    "\n",
    "sentence_lengths = [len(sentence.split(' ')) for sentence in train_chars_puntuations]\n",
    "# sentence_lengths\n",
    "seq_char_punctuation_len = int(np.percentile(sentence_lengths, 95) / 4) * 4\n",
    "\n",
    "char_vectorizer = tf.keras.layers.TextVectorization(\n",
    "    max_tokens=None,\n",
    "    output_sequence_length=seq_char_punctuation_len,\n",
    "    standardize='lower',\n",
    ")\n",
    "\n",
    "char_vectorizer.adapt(train_chars_puntuations)\n",
    "\n",
    "train_chars_puntuations_vectorized = np.array(char_vectorizer(np.array(train_chars_puntuations)))\n",
    "val_chars_puntuations_vectorized = np.array(char_vectorizer(np.array(val_chars_puntuations)))\n",
    "test_chars_puntuations_vectorized = np.array(char_vectorizer(np.array(test_chars_puntuations)))\n",
    "\n",
    "one_hot_matrix = np.eye(len(char_vectorizer.get_vocabulary()))\n",
    "\n",
    "train_chars_puntuations_one_hot = one_hot_matrix[train_chars_puntuations_vectorized][:, :, 2:]\n",
    "val_chars_puntuations_one_hot = one_hot_matrix[val_chars_puntuations_vectorized][:, :, 2:]\n",
    "test_chars_puntuations_one_hot = one_hot_matrix[test_chars_puntuations_vectorized][:, :, 2:]\n",
    "train_chars_puntuations_one_hot.shape, val_chars_puntuations_one_hot.shape, test_chars_puntuations_one_hot.shape"
   ]
  },
  {
   "cell_type": "code",
   "execution_count": null,
   "metadata": {},
   "outputs": [
    {
     "data": {
      "text/plain": [
       "((22084,), (22084,))"
      ]
     },
     "metadata": {},
     "output_type": "display_data"
    }
   ],
   "source": [
    "train_line_numbers_one_hot = train_data_1[\"line_number\"].to_numpy()\n",
    "val_line_numbers_one_hot = val_data_1[\"line_number\"].to_numpy()\n",
    "test_line_numbers_one_hot = test_df_100[\"line_number\"].to_numpy()\n",
    "\n",
    "train_total_lines_one_hot = train_data_1[\"total_lines\"].to_numpy()\n",
    "val_total_lines_one_hot = val_data_1[\"total_lines\"].to_numpy()\n",
    "test_total_lines_one_hot = test_df_100[\"total_lines\"].to_numpy()\n",
    "\n",
    "train_line_numbers_one_hot.shape, train_total_lines_one_hot.shape"
   ]
  },
  {
   "cell_type": "code",
   "execution_count": null,
   "metadata": {},
   "outputs": [],
   "source": [
    "train_word_char_pos_data = tf.data.Dataset.from_tensor_slices((train_sentences, train_chars_puntuations_one_hot, train_line_numbers_one_hot, train_total_lines_one_hot))\n",
    "train_word_char_pos_labels = tf.data.Dataset.from_tensor_slices(train_labels_one_hot)\n",
    "train_dataset = tf.data.Dataset.zip((train_word_char_pos_data, train_word_char_pos_labels)).batch(32).prefetch(tf.data.AUTOTUNE)\n",
    "\n",
    "val_word_char_pos_data = tf.data.Dataset.from_tensor_slices((val_sentences, val_chars_puntuations_one_hot, val_line_numbers_one_hot, val_total_lines_one_hot))\n",
    "val_word_char_pos_labels = tf.data.Dataset.from_tensor_slices(val_labels_one_hot)\n",
    "val_dataset = tf.data.Dataset.zip((val_word_char_pos_data, val_word_char_pos_labels)).batch(32).prefetch(tf.data.AUTOTUNE)\n",
    "\n",
    "test_word_char_pos_data = tf.data.Dataset.from_tensor_slices((test_sentences, test_chars_puntuations_one_hot, test_line_numbers_one_hot, test_total_lines_one_hot))\n",
    "test_word_char_pos_labels = tf.data.Dataset.from_tensor_slices(test_labels_one_hot)\n",
    "test_dataset = tf.data.Dataset.zip((test_word_char_pos_data, test_word_char_pos_labels)).batch(32).prefetch(tf.data.AUTOTUNE)\n"
   ]
  },
  {
   "cell_type": "code",
   "execution_count": null,
   "metadata": {},
   "outputs": [
    {
     "name": "stdout",
     "output_type": "stream",
     "text": [
      "Saving TensorBoard log files to: skim_lit/tensorboard/model_s_23/20240206-002917\n",
      "Saving model checkpoints to: skim_lit/checkpoint/model_s_23/checkpoint.ckpt\n",
      "Epoch 1/10\n",
      "691/691 [==============================] - 81s 103ms/step - loss: 0.5462 - accuracy: 0.7976 - val_loss: 0.4730 - val_accuracy: 0.8088\n",
      "Epoch 2/10\n",
      "338/691 [=============>................] - ETA: 38s - loss: 0.4398 - accuracy: 0.8402"
     ]
    }
   ],
   "source": [
    "hub_embedding = hub.KerasLayer(\n",
    "    \"https://www.kaggle.com/models/google/universal-sentence-encoder/frameworks/TensorFlow2/variations/universal-sentence-encoder/versions/2\",\n",
    "    trainable=False,\n",
    "    name=\"universal_sentence_encoder\",\n",
    ")\n",
    "\n",
    "\n",
    "token_inputs = tf.keras.layers.Input(shape=[], dtype='string', name='token_inputs')\n",
    "token_embedding = hub_embedding(token_inputs)\n",
    "token_outputs = tf.keras.layers.Dense(128, activation='relu')(token_embedding)\n",
    "token_model = tf.keras.Model(token_inputs, token_outputs)\n",
    "\n",
    "char_inputs = tf.keras.layers.Input(shape=(20,26,), dtype=tf.float32, name='char_puntuation_inputs')\n",
    "char_bi_lstm = tf.keras.layers.Bidirectional(tf.keras.layers.LSTM(24))(char_inputs)\n",
    "char_outputs = tf.keras.layers.Dense(128, activation='relu')(char_bi_lstm)\n",
    "char_model = tf.keras.Model(char_inputs, char_outputs)\n",
    "\n",
    "line_number_inputs = tf.keras.layers.Input(shape=(1,), dtype=tf.float32, name='line_number_inputs')\n",
    "line_number_outputs = tf.keras.layers.Dense(32, activation='relu')(line_number_inputs)\n",
    "line_number_model = tf.keras.Model(line_number_inputs, line_number_outputs)\n",
    "\n",
    "total_lines_inputs = tf.keras.layers.Input(shape=(1,), name='total_lines_inputs')\n",
    "total_lines_outputs = tf.keras.layers.Dense(32, activation='relu')(total_lines_inputs)\n",
    "total_lines_model = tf.keras.Model(total_lines_inputs, total_lines_outputs)\n",
    "\n",
    "token_char_concatenate = tf.keras.layers.Concatenate(name=\"token_char_concatenate\")([token_model.output, char_model.output])\n",
    "\n",
    "drop_out = tf.keras.layers.Dense(256, activation='relu')(token_char_concatenate)\n",
    "drop_out = tf.keras.layers.Dropout(0.5)(drop_out)\n",
    "\n",
    "final_concatenate = tf.keras.layers.Concatenate(name='final_concatenate')([drop_out, line_number_model.output, total_lines_model.output])\n",
    "\n",
    "outputs = tf.keras.layers.Dense(5, activation='softmax', name='output_layer')(final_concatenate)\n",
    "\n",
    "model_s_23 = tf.keras.Model([token_model.input, char_model.input, line_number_model.input, total_lines_model.input], outputs)\n",
    "\n",
    "model_s_23.compile(\n",
    "    loss=\"categorical_crossentropy\",\n",
    "    optimizer=tf.keras.optimizers.legacy.Adam(),\n",
    "    metrics=[\"accuracy\"],\n",
    ")\n",
    "\n",
    "model_s_23_history = model_s_23.fit(\n",
    "    train_dataset,\n",
    "    epochs=10,\n",
    "    steps_per_epoch=int(len(train_dataset)),\n",
    "    validation_data=val_dataset,\n",
    "    validation_steps=int(len(val_dataset)),\n",
    "    callbacks=get_callbacks(\"model_s_23\"),\n",
    ")\n",
    "\n",
    "model_s_23.load_weights(\"skim_lit/checkpoint/model_s_23/checkpoint.ckpt\")\n",
    "\n",
    "model_s_23_val_preds = tf.argmax(model_s_23.predict(val_dataset), axis=1)\n",
    "model_s_23_val_results = calculate_results(tf.argmax(val_labels_one_hot, axis=1), model_s_23_val_preds)\n",
    "print(model_s_23_val_results)\n",
    "\n",
    "plot_loss_curves(model_s_23_history)\n",
    "\n",
    "model_s_23_preds = tf.argmax(model_s_23.predict(test_dataset), axis=1)\n",
    "model_s_23_results = calculate_results(tf.argmax(test_labels_one_hot, axis=1), model_s_23_preds)\n",
    "model_s_23_results"
   ]
  },
  {
   "cell_type": "markdown",
   "metadata": {},
   "source": [
    "## Model s 24"
   ]
  },
  {
   "cell_type": "code",
   "execution_count": null,
   "metadata": {},
   "outputs": [
    {
     "data": {
      "text/plain": [
       "(TensorShape([22084, 15]), TensorShape([22084, 20]))"
      ]
     },
     "metadata": {},
     "output_type": "display_data"
    }
   ],
   "source": [
    "train_line_numbers_one_hot = tf.one_hot(train_data_1[\"line_number\"].to_numpy(), depth=15)\n",
    "val_line_numbers_one_hot = tf.one_hot(val_data_1[\"line_number\"].to_numpy(), depth=15)\n",
    "test_line_numbers_one_hot = tf.one_hot(test_df_100[\"line_number\"].to_numpy(), depth=15)\n",
    "\n",
    "train_total_lines_one_hot = tf.one_hot(train_data_1[\"total_lines\"].to_numpy(), depth=20)\n",
    "val_total_lines_one_hot = tf.one_hot(val_data_1[\"total_lines\"].to_numpy(), depth=20)\n",
    "test_total_lines_one_hot = tf.one_hot(test_df_100[\"total_lines\"].to_numpy(), depth=20)\n",
    "\n",
    "train_line_numbers_one_hot.shape, train_total_lines_one_hot.shape"
   ]
  },
  {
   "cell_type": "code",
   "execution_count": null,
   "metadata": {},
   "outputs": [],
   "source": [
    "train_word_char_pos_data = tf.data.Dataset.from_tensor_slices((train_sentences, train_chars, train_line_numbers_one_hot, train_total_lines_one_hot))\n",
    "train_word_char_pos_labels = tf.data.Dataset.from_tensor_slices(train_labels_one_hot)\n",
    "train_dataset = tf.data.Dataset.zip((train_word_char_pos_data, train_word_char_pos_labels)).batch(32).prefetch(tf.data.AUTOTUNE)\n",
    "\n",
    "val_word_char_pos_data = tf.data.Dataset.from_tensor_slices((val_sentences, val_chars, val_line_numbers_one_hot, val_total_lines_one_hot))\n",
    "val_word_char_pos_labels = tf.data.Dataset.from_tensor_slices(val_labels_one_hot)\n",
    "val_dataset = tf.data.Dataset.zip((val_word_char_pos_data, val_word_char_pos_labels)).batch(32).prefetch(tf.data.AUTOTUNE)\n",
    "\n",
    "test_word_char_pos_data = tf.data.Dataset.from_tensor_slices((test_sentences, test_chars, test_line_numbers_one_hot, test_total_lines_one_hot))\n",
    "test_word_char_pos_labels = tf.data.Dataset.from_tensor_slices(test_labels_one_hot)\n",
    "test_dataset = tf.data.Dataset.zip((test_word_char_pos_data, test_word_char_pos_labels)).batch(32).prefetch(tf.data.AUTOTUNE)\n"
   ]
  },
  {
   "cell_type": "code",
   "execution_count": null,
   "metadata": {},
   "outputs": [
    {
     "name": "stdout",
     "output_type": "stream",
     "text": [
      "Saving TensorBoard log files to: skim_lit/tensorboard/model_s_5/20240204-050425\n",
      "Saving model checkpoints to: skim_lit/checkpoint/model_s_5/checkpoint.ckpt\n",
      "Epoch 1/10\n",
      "691/691 [==============================] - 979s 1s/step - loss: 0.6796 - accuracy: 0.7414 - val_loss: 0.5238 - val_accuracy: 0.7978\n",
      "Epoch 2/10\n",
      "691/691 [==============================] - 932s 1s/step - loss: 0.4824 - accuracy: 0.8149 - val_loss: 0.4909 - val_accuracy: 0.7941\n",
      "Epoch 3/10\n",
      "691/691 [==============================] - 928s 1s/step - loss: 0.4591 - accuracy: 0.8240 - val_loss: 0.4793 - val_accuracy: 0.7794\n",
      "Epoch 4/10\n",
      "691/691 [==============================] - 916s 1s/step - loss: 0.4602 - accuracy: 0.8211 - val_loss: 0.4800 - val_accuracy: 0.8015\n",
      "Epoch 5/10\n",
      "691/691 [==============================] - 936s 1s/step - loss: 0.4864 - accuracy: 0.8149 - val_loss: 0.5059 - val_accuracy: 0.8051\n",
      "Epoch 6/10\n",
      "691/691 [==============================] - 915s 1s/step - loss: 0.5547 - accuracy: 0.7994 - val_loss: 0.5946 - val_accuracy: 0.7794\n",
      "Epoch 7/10\n",
      "691/691 [==============================] - 921s 1s/step - loss: 0.6738 - accuracy: 0.7827 - val_loss: 0.7712 - val_accuracy: 0.7721\n",
      "Epoch 8/10\n",
      "691/691 [==============================] - 899s 1s/step - loss: 0.8378 - accuracy: 0.7724 - val_loss: 1.1295 - val_accuracy: 0.7353\n",
      "Epoch 9/10\n",
      " 91/691 [==>...........................] - ETA: 13:16 - loss: 0.8348 - accuracy: 0.7771"
     ]
    }
   ],
   "source": [
    "\n",
    "hub_embedding = hub.KerasLayer(\n",
    "    \"https://www.kaggle.com/models/google/universal-sentence-encoder/frameworks/TensorFlow2/variations/universal-sentence-encoder/versions/2\",\n",
    "    trainable=False,\n",
    "    name=\"universal_sentence_encoder\",\n",
    ")\n",
    "\n",
    "char_vectorizer = tf.keras.layers.TextVectorization(\n",
    "    max_tokens=NUM_CHAR_TOKENS,\n",
    "    output_sequence_length=seq_char_len,\n",
    ")\n",
    "\n",
    "char_vectorizer.adapt(train_chars)\n",
    "\n",
    "char_embedding = tf.keras.layers.Embedding(\n",
    "    input_dim=len(char_vectorizer.get_vocabulary()),\n",
    "    output_dim=25,\n",
    "    mask_zero=True,\n",
    ")\n",
    "\n",
    "\n",
    "token_inputs = tf.keras.layers.Input(shape=[], dtype='string', name='token_inputs')\n",
    "token_embedding = hub_embedding(token_inputs)\n",
    "token_outputs = tf.keras.layers.Dense(128, activation='relu')(token_embedding)\n",
    "token_model = tf.keras.Model(token_inputs, token_outputs)\n",
    "\n",
    "char_inputs = tf.keras.layers.Input(shape=(1,), dtype='string', name='char_inputs')\n",
    "char_vectors = char_vectorizer(char_inputs)\n",
    "char_embeddings = char_embedding(char_vectors)\n",
    "char_bi_lstm = tf.keras.layers.Bidirectional(tf.keras.layers.LSTM(64))(char_embeddings)\n",
    "char_model = tf.keras.Model(char_inputs, char_bi_lstm)\n",
    "\n",
    "line_number_inputs = tf.keras.layers.Input(shape=(15,), dtype=tf.float32, name='line_number_inputs')\n",
    "line_number_outputs = tf.keras.layers.Dense(32, activation='relu')(line_number_inputs)\n",
    "line_number_model = tf.keras.Model(line_number_inputs, line_number_outputs)\n",
    "\n",
    "total_lines_inputs = tf.keras.layers.Input(shape=(20,), name='total_lines_inputs')\n",
    "total_lines_outputs = tf.keras.layers.Dense(32, activation='relu')(total_lines_inputs)\n",
    "total_lines_model = tf.keras.Model(total_lines_inputs, total_lines_outputs)\n",
    "\n",
    "token_char_concatenate = tf.keras.layers.Concatenate(name=\"token_char_concatenate\")([token_model.output, char_model.output])\n",
    "\n",
    "drop_out = tf.keras.layers.Dense(256, activation='relu')(token_char_concatenate)\n",
    "drop_out = tf.keras.layers.Dropout(0.5)(drop_out)\n",
    "\n",
    "final_concatenate = tf.keras.layers.Concatenate(name='final_concatenate')([drop_out, line_number_model.output, total_lines_model.output])\n",
    "\n",
    "outputs = tf.keras.layers.Dense(5, activation='softmax', name='output_layer')(final_concatenate)\n",
    "\n",
    "model_s_24 = tf.keras.Model([token_model.input, char_model.input, line_number_model.input, total_lines_model.input], outputs)\n",
    "\n",
    "model_s_24.compile(\n",
    "    loss=\"categorical_crossentropy\",\n",
    "    optimizer=tf.keras.optimizers.legacy.Adam(),\n",
    "    metrics=[\"accuracy\"],\n",
    ")\n",
    "\n",
    "model_s_24_history = model_s_24.fit(\n",
    "    train_dataset,\n",
    "    epochs=10,\n",
    "    steps_per_epoch=int(len(train_dataset)),\n",
    "    validation_data=val_dataset,\n",
    "    validation_steps=int(len(val_dataset)),\n",
    "    callbacks=get_callbacks(\"model_s_24\"),\n",
    ")\n",
    "\n",
    "model_s_24.load_weights(\"skim_lit/checkpoint/model_s_24/checkpoint.ckpt\")\n",
    "\n",
    "model_s_24_val_preds = tf.argmax(model_s_24.predict(val_dataset), axis=1)\n",
    "model_s_24_val_results = calculate_results(tf.argmax(val_labels_one_hot, axis=1), model_s_24_val_preds)\n",
    "print(model_s_24_val_results)\n",
    "\n",
    "plot_loss_curves(model_s_24_history)\n",
    "\n",
    "model_s_24_preds = tf.argmax(model_s_24.predict(test_dataset), axis=1)\n",
    "model_s_24_results = calculate_results(tf.argmax(test_labels_one_hot, axis=1), model_s_24_preds)\n",
    "model_s_24_results"
   ]
  }
 ],
 "metadata": {
  "kernelspec": {
   "display_name": "Python 3",
   "language": "python",
   "name": "python3"
  },
  "language_info": {
   "codemirror_mode": {
    "name": "ipython",
    "version": 3
   },
   "file_extension": ".py",
   "mimetype": "text/x-python",
   "name": "python",
   "nbconvert_exporter": "python",
   "pygments_lexer": "ipython3",
   "version": "3.11.7"
  }
 },
 "nbformat": 4,
 "nbformat_minor": 2
}
