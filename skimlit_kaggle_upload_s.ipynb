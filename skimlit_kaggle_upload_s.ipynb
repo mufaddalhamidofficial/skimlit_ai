{
 "cells": [
  {
   "cell_type": "code",
   "execution_count": null,
   "metadata": {},
   "outputs": [],
   "source": [
    "!wget https://raw.githubusercontent.com/mufaddalhamidofficial/tensorflow_course/main/helper_funcs.py\n",
    "!wget https://media.githubusercontent.com/media/mufaddalhamidofficial/skimlit_ai/main/data.zip"
   ]
  },
  {
   "cell_type": "code",
   "execution_count": null,
   "metadata": {},
   "outputs": [],
   "source": [
    "import tensorflow as tf\n",
    "import numpy as np\n",
    "import pandas as pd\n",
    "import matplotlib.pyplot as plt\n",
    "import random\n",
    "from helper_funcs import create_tensorboard_callback, create_checkpoint_callback, plot_loss_curves, compare_historys, unzip_data, calculate_results\n",
    "import tensorflow_hub as hub\n",
    "import io"
   ]
  },
  {
   "cell_type": "code",
   "execution_count": null,
   "metadata": {},
   "outputs": [],
   "source": [
    "tf.__version__"
   ]
  },
  {
   "cell_type": "code",
   "execution_count": null,
   "metadata": {},
   "outputs": [],
   "source": [
    "unzip_data(\"data.zip\", '/kaggle/temp/')\n",
    "!rm -rf data.zip"
   ]
  },
  {
   "cell_type": "code",
   "execution_count": null,
   "metadata": {},
   "outputs": [],
   "source": [
    "DIR_NAME_01 = \"/kaggle/temp/data/01_percent\"\n",
    "DIR_NAME_1 = \"/kaggle/temp/data/1_percent\"\n",
    "DIR_NAME_10 = \"/kaggle/temp/data/10_percent\"\n",
    "DIR_NAME_100 = \"/kaggle/temp/data/100_percent\"\n",
    "\n",
    "test_df_100 = pd.read_csv(DIR_NAME_100 + \"/test.csv\")\n",
    "test_df_100 = test_df_100.iloc[:, 1:]\n",
    "\n",
    "test_sentences_ = test_df_100.text.to_numpy()\n",
    "test_labels_ = test_df_100.target.to_numpy()"
   ]
  },
  {
   "cell_type": "markdown",
   "metadata": {},
   "source": [
    "## Callbacks:"
   ]
  },
  {
   "cell_type": "code",
   "execution_count": null,
   "metadata": {},
   "outputs": [],
   "source": [
    "def get_callbacks(experiment_name, use_early_stopping = True, patience=10, use_tensorboard = True, use_model_checkpoint = True):\n",
    "    callbacks = [\n",
    "    ]\n",
    "    if use_tensorboard:\n",
    "        callbacks.append(\n",
    "            create_tensorboard_callback(\n",
    "                dir_name=\"skim_lit/tensorboard\",\n",
    "                experiment_name=experiment_name,\n",
    "            )\n",
    "        )\n",
    "    if use_model_checkpoint:\n",
    "        callbacks.append(\n",
    "            create_checkpoint_callback(\n",
    "                dir_name=\"skim_lit/checkpoint\",\n",
    "                experiment_name=experiment_name,\n",
    "                monitor=\"val_accuracy\",\n",
    "            )\n",
    "        )\n",
    "    if use_early_stopping:\n",
    "        \n",
    "        callbacks.append(tf.keras.callbacks.EarlyStopping(\n",
    "            monitor=\"val_accuracy\",\n",
    "            patience=patience,\n",
    "            restore_best_weights=True,\n",
    "        ))\n",
    "    return callbacks"
   ]
  },
  {
   "cell_type": "markdown",
   "metadata": {},
   "source": [
    "# Modelling"
   ]
  },
  {
   "cell_type": "markdown",
   "metadata": {},
   "source": [
    "## Model s Data Preps:"
   ]
  },
  {
   "cell_type": "markdown",
   "metadata": {},
   "source": [
    "### Get and Prepare data"
   ]
  },
  {
   "cell_type": "code",
   "execution_count": null,
   "metadata": {},
   "outputs": [],
   "source": [
    "train_data_1 = pd.read_csv(DIR_NAME_1 + \"/train.csv\")\n",
    "train_sentences = train_data_1.text.to_numpy()\n",
    "train_labels = train_data_1.target.to_numpy()\n",
    "\n",
    "val_data_1 = pd.read_csv(DIR_NAME_1 + \"/val.csv\")\n",
    "val_sentences = val_data_1.text.to_numpy()\n",
    "val_labels = val_data_1.target.to_numpy()\n",
    "\n",
    "test_sentences = test_sentences_.copy()\n",
    "test_labels = test_labels_.copy()"
   ]
  },
  {
   "cell_type": "markdown",
   "metadata": {},
   "source": [
    "### One hot encode labels"
   ]
  },
  {
   "cell_type": "code",
   "execution_count": null,
   "metadata": {},
   "outputs": [],
   "source": [
    "from sklearn.preprocessing import OneHotEncoder\n",
    "\n",
    "one_hot_encoder = OneHotEncoder(sparse_output=False)\n",
    "train_labels_one_hot = one_hot_encoder.fit_transform(train_labels.reshape(-1, 1))\n",
    "val_labels_one_hot = one_hot_encoder.transform(val_labels.reshape(-1, 1))\n",
    "test_labels_one_hot = one_hot_encoder.transform(test_labels.reshape(-1, 1))\n",
    "\n",
    "train_labels_one_hot"
   ]
  },
  {
   "cell_type": "code",
   "execution_count": null,
   "metadata": {},
   "outputs": [],
   "source": [
    "class_names = list(one_hot_encoder.categories_[0])\n",
    "classes_count = len(class_names) # type: ignore\n",
    "class_names"
   ]
  },
  {
   "cell_type": "code",
   "execution_count": null,
   "metadata": {},
   "outputs": [],
   "source": [
    "import string\n",
    "\n",
    "train_chars = [\" \".join(list(sentence)) for sentence in train_sentences]\n",
    "val_chars = [\" \".join(list(sentence)) for sentence in val_sentences]\n",
    "test_chars = [\" \".join(list(sentence)) for sentence in test_sentences]\n",
    "\n",
    "char_lens = [len(sentence.split(' ')) for sentence in train_chars]\n",
    "\n",
    "seq_char_len = int(np.percentile(char_lens, 90))\n",
    "\n",
    "alphabet = string.ascii_lowercase + string.digits + string.punctuation\n",
    "\n",
    "NUM_CHAR_TOKENS = len(alphabet) + 2\n",
    "seq_char_len, NUM_CHAR_TOKENS, alphabet"
   ]
  },
  {
   "cell_type": "markdown",
   "metadata": {},
   "source": [
    "## Model s 55"
   ]
  },
  {
   "cell_type": "code",
   "execution_count": null,
   "metadata": {},
   "outputs": [],
   "source": [
    "import string\n",
    "\n",
    "train_chars_puntuations = [' '.join([e for e in list(sentence) if e not in string.ascii_lowercase + ' ']) for sentence in train_sentences]\n",
    "val_chars_puntuations = [' '.join([e for e in list(sentence) if e not in string.ascii_lowercase + ' ']) for sentence in val_sentences]\n",
    "test_chars_puntuations = [' '.join([e for e in list(sentence) if e not in string.ascii_lowercase + ' ']) for sentence in test_sentences]\n",
    "\n",
    "sentence_lengths = [len(sentence.split(' ')) for sentence in train_chars_puntuations]\n",
    "# sentence_lengths\n",
    "seq_char_punctuation_len = int(np.percentile(sentence_lengths, 95) / 4) * 4\n",
    "\n",
    "char_vectorizer = tf.keras.layers.TextVectorization(\n",
    "    max_tokens=None,\n",
    "    output_sequence_length=seq_char_punctuation_len,\n",
    "    standardize='lower',\n",
    ")\n",
    "\n",
    "char_vectorizer.adapt(train_chars_puntuations)\n",
    "\n",
    "train_chars_puntuations_vectorized = np.array(char_vectorizer(np.array(train_chars_puntuations)))\n",
    "val_chars_puntuations_vectorized = np.array(char_vectorizer(np.array(val_chars_puntuations)))\n",
    "test_chars_puntuations_vectorized = np.array(char_vectorizer(np.array(test_chars_puntuations)))\n",
    "\n",
    "one_hot_matrix = np.eye(len(char_vectorizer.get_vocabulary()))\n",
    "\n",
    "train_chars_puntuations_one_hot = one_hot_matrix[train_chars_puntuations_vectorized][:, :, 2:]\n",
    "val_chars_puntuations_one_hot = one_hot_matrix[val_chars_puntuations_vectorized][:, :, 2:]\n",
    "test_chars_puntuations_one_hot = one_hot_matrix[test_chars_puntuations_vectorized][:, :, 2:]\n",
    "train_chars_puntuations_one_hot.shape, val_chars_puntuations_one_hot.shape, test_chars_puntuations_one_hot.shape"
   ]
  },
  {
   "cell_type": "code",
   "execution_count": null,
   "metadata": {},
   "outputs": [],
   "source": [
    "def tf_count(t, val):\n",
    "    elements_equal_to_value = tf.equal(t, val)\n",
    "    as_ints = tf.cast(elements_equal_to_value, tf.int32)\n",
    "    count = tf.reduce_sum(as_ints)\n",
    "    return count\n",
    "text_vectorizer = tf.keras.layers.TextVectorization(output_sequence_length=50)\n",
    "text_vectorizer.adapt(train_sentences)\n",
    "vocab = text_vectorizer.get_vocabulary()[2:]\n",
    "\n",
    "words = tf.reshape(tf.strings.split(tf.strings.regex_replace(train_sentences, r'[!\"#$%&()\\*\\+,-\\./:;<=>?@\\[\\\\\\]^_`{|}~\\']', \"\"), ' '), shape=[-1])\n",
    "counts = {word: tf_count(words, word).numpy() for word in vocab}\n",
    "counts_df = pd.DataFrame(counts.items(), columns=[\"word\", \"count\"])\n",
    "# counts_df = counts_df.sort_values(\"count\", ascending=False)\n",
    "max_tokens = counts_df[counts_df['count'] >= 5].shape[0]\n",
    "max_tokens"
   ]
  },
  {
   "cell_type": "code",
   "execution_count": null,
   "metadata": {},
   "outputs": [],
   "source": [
    "train_line_numbers_one_hot = train_data_1[\"line_number\"].to_numpy()\n",
    "val_line_numbers_one_hot = val_data_1[\"line_number\"].to_numpy()\n",
    "test_line_numbers_one_hot = test_df_100[\"line_number\"].to_numpy()\n",
    "\n",
    "train_total_lines_one_hot = train_data_1[\"total_lines\"].to_numpy()\n",
    "val_total_lines_one_hot = val_data_1[\"total_lines\"].to_numpy()\n",
    "test_total_lines_one_hot = test_df_100[\"total_lines\"].to_numpy()\n",
    "\n",
    "train_line_numbers_one_hot.shape, train_total_lines_one_hot.shape"
   ]
  },
  {
   "cell_type": "code",
   "execution_count": null,
   "metadata": {},
   "outputs": [],
   "source": [
    "train_word_char_pos_data = tf.data.Dataset.from_tensor_slices((train_sentences, train_chars_puntuations_one_hot, train_line_numbers_one_hot, train_total_lines_one_hot))\n",
    "train_word_char_pos_labels = tf.data.Dataset.from_tensor_slices(train_labels_one_hot)\n",
    "train_dataset = tf.data.Dataset.zip((train_word_char_pos_data, train_word_char_pos_labels)).batch(32).prefetch(tf.data.AUTOTUNE)\n",
    "\n",
    "val_word_char_pos_data = tf.data.Dataset.from_tensor_slices((val_sentences, val_chars_puntuations_one_hot, val_line_numbers_one_hot, val_total_lines_one_hot))\n",
    "val_word_char_pos_labels = tf.data.Dataset.from_tensor_slices(val_labels_one_hot)\n",
    "val_dataset = tf.data.Dataset.zip((val_word_char_pos_data, val_word_char_pos_labels)).batch(32).prefetch(tf.data.AUTOTUNE)\n",
    "\n",
    "test_word_char_pos_data = tf.data.Dataset.from_tensor_slices((test_sentences, test_chars_puntuations_one_hot, test_line_numbers_one_hot, test_total_lines_one_hot))\n",
    "test_word_char_pos_labels = tf.data.Dataset.from_tensor_slices(test_labels_one_hot)\n",
    "test_dataset = tf.data.Dataset.zip((test_word_char_pos_data, test_word_char_pos_labels)).batch(32).prefetch(tf.data.AUTOTUNE)\n"
   ]
  },
  {
   "cell_type": "code",
   "execution_count": null,
   "metadata": {},
   "outputs": [],
   "source": [
    "text_vectorizer = tf.keras.layers.TextVectorization(\n",
    "    max_tokens=max_tokens,\n",
    "    output_sequence_length=50,\n",
    ")\n",
    "\n",
    "text_vectorizer.adapt(train_sentences)\n",
    "\n",
    "embedding = tf.keras.layers.Embedding(\n",
    "    input_dim=len(text_vectorizer.get_vocabulary()),\n",
    "    output_dim=2048,\n",
    "    mask_zero=True,\n",
    ")\n",
    "\n",
    "token_inputs = tf.keras.layers.Input(shape=(1,), dtype=tf.string)\n",
    "token_vectorization = text_vectorizer(token_inputs)\n",
    "token_embedding = embedding(token_vectorization)\n",
    "token_merge = tf.keras.layers.Flatten()(token_embedding)\n",
    "token_x = tf.keras.layers.Dense(512, activation='relu')(token_merge)\n",
    "token_x = tf.keras.layers.Dense(256, activation='relu')(token_x)\n",
    "token_outputs = tf.keras.layers.Dense(128, activation='relu')(token_x)\n",
    "token_model = tf.keras.Model(token_inputs, token_outputs)\n",
    "\n",
    "char_inputs = tf.keras.layers.Input(shape=(20,26,), dtype=tf.float32, name='char_puntuation_inputs')\n",
    "char_bi_lstm = tf.keras.layers.Bidirectional(tf.keras.layers.LSTM(64))(char_inputs)\n",
    "char_x = tf.keras.layers.Dense(256, activation='relu')(char_bi_lstm)\n",
    "char_outputs = tf.keras.layers.Dense(128, activation='relu')(char_x)\n",
    "char_model = tf.keras.Model(char_inputs, char_outputs)\n",
    "\n",
    "line_number_inputs = tf.keras.layers.Input(shape=(1,), dtype=tf.float32, name='line_number_inputs')\n",
    "line_number_outputs = tf.keras.layers.Dense(32, activation='relu')(line_number_inputs)\n",
    "line_number_model = tf.keras.Model(line_number_inputs, line_number_outputs)\n",
    "\n",
    "total_lines_inputs = tf.keras.layers.Input(shape=(1,), name='total_lines_inputs')\n",
    "total_lines_outputs = tf.keras.layers.Dense(32, activation='relu')(total_lines_inputs)\n",
    "total_lines_model = tf.keras.Model(total_lines_inputs, total_lines_outputs)\n",
    "\n",
    "token_char_concatenate = tf.keras.layers.Concatenate(name=\"token_char_concatenate\")([token_model.output, char_model.output])\n",
    "\n",
    "drop_out = tf.keras.layers.Dense(256, activation='relu')(token_char_concatenate)\n",
    "drop_out = tf.keras.layers.Dropout(0.5)(drop_out)\n",
    "\n",
    "final_concatenate = tf.keras.layers.Concatenate(name='final_concatenate')([drop_out, line_number_model.output, total_lines_model.output])\n",
    "\n",
    "outputs = tf.keras.layers.Dense(5, activation='softmax', name='output_layer')(final_concatenate)\n",
    "\n",
    "model_s_55 = tf.keras.Model([token_model.input, char_model.input, line_number_model.input, total_lines_model.input], outputs)\n",
    "\n",
    "model_s_55.compile(\n",
    "    loss=\"categorical_crossentropy\",\n",
    "    optimizer=tf.keras.optimizers.legacy.Adam(),\n",
    "    metrics=[\"accuracy\"],\n",
    ")\n",
    "\n",
    "model_s_55_history = model_s_55.fit(\n",
    "    train_dataset,\n",
    "    epochs=10,\n",
    "    steps_per_epoch=int(len(train_dataset)),\n",
    "    validation_data=val_dataset,\n",
    "    validation_steps=int(len(val_dataset)),\n",
    "    callbacks=get_callbacks(\"model_s_55\"),\n",
    ")\n",
    "\n",
    "model_s_55.load_weights(\"skim_lit/checkpoint/model_s_55/checkpoint.ckpt\")\n",
    "\n",
    "model_s_55_val_preds = tf.argmax(model_s_55.predict(val_dataset), axis=1)\n",
    "model_s_55_val_results = calculate_results(tf.argmax(val_labels_one_hot, axis=1), model_s_55_val_preds)\n",
    "print(model_s_55_val_results)\n",
    "\n",
    "plot_loss_curves(model_s_55_history)\n",
    "\n",
    "model_s_55_preds = tf.argmax(model_s_55.predict(test_dataset), axis=1)\n",
    "model_s_55_results = calculate_results(tf.argmax(test_labels_one_hot, axis=1), model_s_55_preds)\n",
    "model_s_55_results"
   ]
  },
  {
   "cell_type": "markdown",
   "metadata": {},
   "source": [
    "## Model s 56"
   ]
  },
  {
   "cell_type": "code",
   "execution_count": null,
   "metadata": {},
   "outputs": [],
   "source": [
    "import string\n",
    "\n",
    "train_chars_puntuations = [' '.join([e for e in list(sentence) if e not in string.ascii_lowercase + ' ']) for sentence in train_sentences]\n",
    "val_chars_puntuations = [' '.join([e for e in list(sentence) if e not in string.ascii_lowercase + ' ']) for sentence in val_sentences]\n",
    "test_chars_puntuations = [' '.join([e for e in list(sentence) if e not in string.ascii_lowercase + ' ']) for sentence in test_sentences]\n",
    "\n",
    "sentence_lengths = [len(sentence.split(' ')) for sentence in train_chars_puntuations]\n",
    "# sentence_lengths\n",
    "seq_char_punctuation_len = int(np.percentile(sentence_lengths, 95) / 4) * 4\n",
    "\n",
    "char_vectorizer = tf.keras.layers.TextVectorization(\n",
    "    max_tokens=None,\n",
    "    output_sequence_length=seq_char_punctuation_len,\n",
    "    standardize='lower',\n",
    ")\n",
    "\n",
    "char_vectorizer.adapt(train_chars_puntuations)\n",
    "\n",
    "train_chars_puntuations_vectorized = np.array(char_vectorizer(np.array(train_chars_puntuations)))\n",
    "val_chars_puntuations_vectorized = np.array(char_vectorizer(np.array(val_chars_puntuations)))\n",
    "test_chars_puntuations_vectorized = np.array(char_vectorizer(np.array(test_chars_puntuations)))\n",
    "\n",
    "one_hot_matrix = np.eye(len(char_vectorizer.get_vocabulary()))\n",
    "\n",
    "train_chars_puntuations_one_hot = one_hot_matrix[train_chars_puntuations_vectorized][:, :, 2:]\n",
    "val_chars_puntuations_one_hot = one_hot_matrix[val_chars_puntuations_vectorized][:, :, 2:]\n",
    "test_chars_puntuations_one_hot = one_hot_matrix[test_chars_puntuations_vectorized][:, :, 2:]\n",
    "train_chars_puntuations_one_hot.shape, val_chars_puntuations_one_hot.shape, test_chars_puntuations_one_hot.shape"
   ]
  },
  {
   "cell_type": "code",
   "execution_count": null,
   "metadata": {},
   "outputs": [],
   "source": [
    "def tf_count(t, val):\n",
    "    elements_equal_to_value = tf.equal(t, val)\n",
    "    as_ints = tf.cast(elements_equal_to_value, tf.int32)\n",
    "    count = tf.reduce_sum(as_ints)\n",
    "    return count\n",
    "text_vectorizer = tf.keras.layers.TextVectorization(output_sequence_length=50)\n",
    "text_vectorizer.adapt(train_sentences)\n",
    "vocab = text_vectorizer.get_vocabulary()[2:]\n",
    "\n",
    "words = tf.reshape(tf.strings.split(tf.strings.regex_replace(train_sentences, r'[!\"#$%&()\\*\\+,-\\./:;<=>?@\\[\\\\\\]^_`{|}~\\']', \"\"), ' '), shape=[-1])\n",
    "counts = {word: tf_count(words, word).numpy() for word in vocab}\n",
    "counts_df = pd.DataFrame(counts.items(), columns=[\"word\", \"count\"])\n",
    "# counts_df = counts_df.sort_values(\"count\", ascending=False)\n",
    "max_tokens = counts_df[counts_df['count'] >= 5].shape[0]\n",
    "max_tokens"
   ]
  },
  {
   "cell_type": "code",
   "execution_count": null,
   "metadata": {},
   "outputs": [],
   "source": [
    "train_line_numbers_one_hot = train_data_1[\"line_number\"].to_numpy()\n",
    "val_line_numbers_one_hot = val_data_1[\"line_number\"].to_numpy()\n",
    "test_line_numbers_one_hot = test_df_100[\"line_number\"].to_numpy()\n",
    "\n",
    "train_total_lines_one_hot = train_data_1[\"total_lines\"].to_numpy()\n",
    "val_total_lines_one_hot = val_data_1[\"total_lines\"].to_numpy()\n",
    "test_total_lines_one_hot = test_df_100[\"total_lines\"].to_numpy()\n",
    "\n",
    "train_line_numbers_one_hot.shape, train_total_lines_one_hot.shape"
   ]
  },
  {
   "cell_type": "code",
   "execution_count": null,
   "metadata": {},
   "outputs": [],
   "source": [
    "from sklearn.feature_extraction.text import TfidfVectorizer\n",
    "\n",
    "vectorizer = TfidfVectorizer(max_features=max_tokens)\n",
    "train_sentences_vectorized = vectorizer.fit_transform(train_sentences).toarray()\n",
    "val_sentences_vectorized = vectorizer.transform(val_sentences).toarray()\n",
    "test_sentences_vectorized = vectorizer.transform(test_sentences).toarray()\n"
   ]
  },
  {
   "cell_type": "code",
   "execution_count": null,
   "metadata": {},
   "outputs": [],
   "source": [
    "train_word_char_pos_data = tf.data.Dataset.from_tensor_slices((train_sentences_vectorized, train_chars_puntuations_one_hot, train_line_numbers_one_hot, train_total_lines_one_hot))\n",
    "train_word_char_pos_labels = tf.data.Dataset.from_tensor_slices(train_labels_one_hot)\n",
    "train_dataset = tf.data.Dataset.zip((train_word_char_pos_data, train_word_char_pos_labels)).batch(32).prefetch(tf.data.AUTOTUNE)\n",
    "\n",
    "val_word_char_pos_data = tf.data.Dataset.from_tensor_slices((val_sentences_vectorized, val_chars_puntuations_one_hot, val_line_numbers_one_hot, val_total_lines_one_hot))\n",
    "val_word_char_pos_labels = tf.data.Dataset.from_tensor_slices(val_labels_one_hot)\n",
    "val_dataset = tf.data.Dataset.zip((val_word_char_pos_data, val_word_char_pos_labels)).batch(32).prefetch(tf.data.AUTOTUNE)\n",
    "\n",
    "test_word_char_pos_data = tf.data.Dataset.from_tensor_slices((test_sentences_vectorized, test_chars_puntuations_one_hot, test_line_numbers_one_hot, test_total_lines_one_hot))\n",
    "test_word_char_pos_labels = tf.data.Dataset.from_tensor_slices(test_labels_one_hot)\n",
    "test_dataset = tf.data.Dataset.zip((test_word_char_pos_data, test_word_char_pos_labels)).batch(32).prefetch(tf.data.AUTOTUNE)\n"
   ]
  },
  {
   "cell_type": "code",
   "execution_count": null,
   "metadata": {},
   "outputs": [],
   "source": [
    "\n",
    "\n",
    "token_inputs = tf.keras.layers.Input(shape=(max_tokens,), dtype=tf.float32)\n",
    "token_x = tf.keras.layers.Dense(512, activation='relu')(token_inputs)\n",
    "token_x = tf.keras.layers.Dense(256, activation='relu')(token_x)\n",
    "token_outputs = tf.keras.layers.Dense(128, activation='relu')(token_x)\n",
    "token_model = tf.keras.Model(token_inputs, token_outputs)\n",
    "\n",
    "char_inputs = tf.keras.layers.Input(shape=(20,26,), dtype=tf.float32, name='char_puntuation_inputs')\n",
    "char_bi_lstm = tf.keras.layers.Bidirectional(tf.keras.layers.LSTM(64))(char_inputs)\n",
    "char_x = tf.keras.layers.Dense(256, activation='relu')(char_bi_lstm)\n",
    "char_outputs = tf.keras.layers.Dense(128, activation='relu')(char_x)\n",
    "char_model = tf.keras.Model(char_inputs, char_outputs)\n",
    "\n",
    "line_number_inputs = tf.keras.layers.Input(shape=(1,), dtype=tf.float32, name='line_number_inputs')\n",
    "line_number_outputs = tf.keras.layers.Dense(32, activation='relu')(line_number_inputs)\n",
    "line_number_model = tf.keras.Model(line_number_inputs, line_number_outputs)\n",
    "\n",
    "total_lines_inputs = tf.keras.layers.Input(shape=(1,), name='total_lines_inputs')\n",
    "total_lines_outputs = tf.keras.layers.Dense(32, activation='relu')(total_lines_inputs)\n",
    "total_lines_model = tf.keras.Model(total_lines_inputs, total_lines_outputs)\n",
    "\n",
    "token_char_concatenate = tf.keras.layers.Concatenate(name=\"token_char_concatenate\")([token_model.output, char_model.output])\n",
    "\n",
    "drop_out = tf.keras.layers.Dense(256, activation='relu')(token_char_concatenate)\n",
    "drop_out = tf.keras.layers.Dropout(0.5)(drop_out)\n",
    "\n",
    "final_concatenate = tf.keras.layers.Concatenate(name='final_concatenate')([drop_out, line_number_model.output, total_lines_model.output])\n",
    "\n",
    "outputs = tf.keras.layers.Dense(5, activation='softmax', name='output_layer')(final_concatenate)\n",
    "\n",
    "model_s_56 = tf.keras.Model([token_model.input, char_model.input, line_number_model.input, total_lines_model.input], outputs)\n",
    "\n",
    "model_s_56.compile(\n",
    "    loss=\"categorical_crossentropy\",\n",
    "    optimizer=tf.keras.optimizers.legacy.Adam(),\n",
    "    metrics=[\"accuracy\"],\n",
    ")\n",
    "\n",
    "model_s_56_history = model_s_56.fit(\n",
    "    train_dataset,\n",
    "    epochs=10,\n",
    "    steps_per_epoch=int(len(train_dataset)),\n",
    "    validation_data=val_dataset,\n",
    "    validation_steps=int(len(val_dataset)),\n",
    "    callbacks=get_callbacks(\"model_s_56\"),\n",
    ")\n",
    "\n",
    "model_s_56.load_weights(\"skim_lit/checkpoint/model_s_56/checkpoint.ckpt\")\n",
    "\n",
    "model_s_56_val_preds = tf.argmax(model_s_56.predict(val_dataset), axis=1)\n",
    "model_s_56_val_results = calculate_results(tf.argmax(val_labels_one_hot, axis=1), model_s_56_val_preds)\n",
    "print(model_s_56_val_results)\n",
    "\n",
    "plot_loss_curves(model_s_56_history)\n",
    "\n",
    "model_s_56_preds = tf.argmax(model_s_56.predict(test_dataset), axis=1)\n",
    "model_s_56_results = calculate_results(tf.argmax(test_labels_one_hot, axis=1), model_s_56_preds)\n",
    "model_s_56_results"
   ]
  }
 ],
 "metadata": {
  "kernelspec": {
   "display_name": "Python 3",
   "language": "python",
   "name": "python3"
  },
  "language_info": {
   "codemirror_mode": {
    "name": "ipython",
    "version": 3
   },
   "file_extension": ".py",
   "mimetype": "text/x-python",
   "name": "python",
   "nbconvert_exporter": "python",
   "pygments_lexer": "ipython3",
   "version": "3.11.7"
  }
 },
 "nbformat": 4,
 "nbformat_minor": 2
}
